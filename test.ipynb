{
 "cells": [
  {
   "cell_type": "code",
   "execution_count": null,
   "metadata": {},
   "outputs": [],
   "source": [
    "import re\n",
    "traking_id=\"ID de rastreo: 1Z2EY4R00367249000\"\n",
    "traking_id=re.findall(r\"ID de rastreo:(.*)\",traking_id)[0]\n",
    "print(traking_id)\n"
   ]
  },
  {
   "cell_type": "code",
   "execution_count": null,
   "metadata": {},
   "outputs": [],
   "source": []
  },
  {
   "cell_type": "code",
   "execution_count": 1,
   "metadata": {},
   "outputs": [
    {
     "name": "stdout",
     "output_type": "stream",
     "text": [
      "['compras@unaluka.com']\n"
     ]
    }
   ],
   "source": [
    "from selenium.webdriver.common.by import By\n",
    "from selenium.webdriver.support.ui import WebDriverWait\n",
    "from selenium.webdriver.support import expected_conditions as EC\n",
    "import os\n",
    "from utils.setWebdriver import configWebDriver\n",
    "download_path=f\"{os.getcwd()}/descargas_pdf\"\n",
    "with open(\"parametros.txt\", mode=\"r\") as f:\n",
    "    lines=f.readlines()\n",
    "dates=lines[0].strip()\n",
    "w=configWebDriver()\n",
    "wait = WebDriverWait(w, 3)\n",
    "homeUrl=\"https://www.amazon.com/-/es/ap/signin?openid.pape.max_auth_age=0&openid.return_to=https%3A%2F%2Fwww.amazon.com%2F-%2Fes%2Fgp%2Fcss%2Forder-history%3Fref_%3Dnav_youraccount_switchacct&openid.identity=http%3A%2F%2Fspecs.openid.net%2Fauth%2F2.0%2Fidentifier_select&openid.assoc_handle=usflex&openid.mode=checkid_setup&openid.claimed_id=http%3A%2F%2Fspecs.openid.net%2Fauth%2F2.0%2Fidentifier_select&openid.ns=http%3A%2F%2Fspecs.openid.net%2Fauth%2F2.0&switch_account=picker&ignoreAuthState=1&_encoding=UTF8\"\n",
    "w.get(homeUrl)\n",
    "cuentas=[cuenta.text for cuenta in wait.until(EC.visibility_of_all_elements_located((By.XPATH,\"//div[contains(text(), '.com')]\")))]\n",
    "print(cuentas)\n",
    "\n",
    "#w.close()\n"
   ]
  },
  {
   "cell_type": "code",
   "execution_count": null,
   "metadata": {},
   "outputs": [],
   "source": [
    "import time\n",
    "w.find_element(By.CSS_SELECTOR,\"a[id='a-autoid-5-announce']\").click()\n",
    "#time.sleep(1)\n",
    "w.find_element(By.CSS_SELECTOR,\"a[data-ref='ppx_pt2_dt_b_pt_detail']\").click()\n",
    "#time.sleep(1)\n",
    "#wait for element to be visible\n",
    "wait.until(EC.visibility_of_element_located((By.CSS_SELECTOR,\"span[class='tracking-event-date']\")))\n",
    "shipmentDate=w.find_element(By.CSS_SELECTOR,\"span[class='tracking-event-date']\").text\n",
    "print(f\"fecha de envío{shipmentDate}\")\n"
   ]
  },
  {
   "cell_type": "code",
   "execution_count": null,
   "metadata": {},
   "outputs": [],
   "source": [
    "windows=w.window_handles\n",
    "#window tittle\n",
    "print(w.title)\n",
    "print(windows[0])"
   ]
  },
  {
   "cell_type": "code",
   "execution_count": null,
   "metadata": {},
   "outputs": [],
   "source": [
    "#switch to frame\n",
    "w.switch_to.frame(w.find_element(By.XPATH,\"//iframe[@id='turbo-checkout-iframe']\"))\n",
    "shipmentDate=w.find_element(By.XPATH,\"span[class='tracking-event-date']\")\n"
   ]
  },
  {
   "cell_type": "code",
   "execution_count": null,
   "metadata": {},
   "outputs": [],
   "source": [
    "dirs=w.find_elements(By.CSS_SELECTOR,\"ul[class='displayAddressUL'] li\")\n",
    "shipping_Address_Street1=dirs[1].text\n",
    "shipping_Address_City=dirs[2].text.split(\",\")[0]\n",
    "shipping_Address_State=dirs[2].text.split(\",\")[1].strip().split(\" \")[0]\n",
    "shipping_Address_Zip=dirs[2].text.split(\",\")[1].strip().split(\" \")[1]\n",
    "print(shipping_Address_Street1)\n",
    "print(shipping_Address_City)\n",
    "print(shipping_Address_State)\n",
    "print(shipping_Address_Zip)"
   ]
  },
  {
   "cell_type": "code",
   "execution_count": null,
   "metadata": {},
   "outputs": [],
   "source": [
    "import re\n",
    "link=w.find_elements(By.CSS_SELECTOR,\"div.a-fixed-left-grid div.a-row:first-child a\")[0].get_attribute(\"href\")\n",
    "print(link)\n",
    "product_id=re.findall(r\"/product/(.*)/ref\",link)[0]\n",
    "print(product_id)"
   ]
  },
  {
   "cell_type": "code",
   "execution_count": null,
   "metadata": {},
   "outputs": [],
   "source": [
    "def par():\n",
    "    return 1,2\n",
    "a,b=par()\n",
    "print(a)\n",
    "print(b)"
   ]
  },
  {
   "cell_type": "code",
   "execution_count": null,
   "metadata": {},
   "outputs": [],
   "source": [
    "animals=[\"perro\",\"gato\",\"raton\"]\n",
    "for animal,i in enumerate(animals):\n",
    "    print(animal)"
   ]
  },
  {
   "cell_type": "code",
   "execution_count": null,
   "metadata": {},
   "outputs": [],
   "source": [
    "status=w.find_element(By.XPATH,\"//span[@class='a-color-secondary a-text-bold']/following-sibling::span\").text\n",
    "sellBy=w.find_element(By.CSS_SELECTOR,\"div[class='a-row'] span[class='a-size-small a-color-secondary']\").text\n",
    "sellBy=re.findall(r\"Vendido por: (.*)\",sellBy)[0]\n",
    "print(status)\n",
    "print(sellBy)"
   ]
  },
  {
   "cell_type": "code",
   "execution_count": null,
   "metadata": {},
   "outputs": [],
   "source": [
    "subtotal=w.find_element(By.XPATH,\"//div[contains(., 'Productos')]/following-sibling::div/span[@class='a-color-base']\").text\n",
    "print(subtotal)\n",
    "\n",
    "envio=w.find_element(By.XPATH,\"//div[contains(., 'Envío')]/following-sibling::div/span\").text\n",
    "print(envio)\n",
    "\n",
    "discount=w.find_element(By.XPATH,\"//div[contains(., 'Buy any 4, Save 5%:')]/following-sibling::div/span[@class='a-color-base']\").text\n",
    "print(discount)\n"
   ]
  },
  {
   "cell_type": "code",
   "execution_count": null,
   "metadata": {},
   "outputs": [],
   "source": [
    "import re\n",
    "listProducts=w.find_elements(By.CSS_SELECTOR,\"div.a-fixed-left-grid\")\n",
    "productInfo=[]\n",
    "for product in listProducts:\n",
    "    price=product.find_element(By.CSS_SELECTOR,\"span[class='a-size-small a-color-price']\").text\n",
    "    condition=product.find_element(By.CSS_SELECTOR,\"span[class='a-color-secondary']\").text\n",
    "    try:\n",
    "        sellBy=product.find_element(By.XPATH,\"//span[contains(text(),'Vendido por:')]\").text\n",
    "        sellBy=re.findall(r\"Vendido por: (.*)\",sellBy)[0]\n",
    "    except:\n",
    "        sellBy=\"Sin seller\"\n",
    "    try:\n",
    "        quantity=product.find_element(By.CSS_SELECTOR,\"span[class='item-view-qty']\").text\n",
    "    except:\n",
    "        quantity=1\n",
    "    name=product.find_element(By.CSS_SELECTOR,\"div.a-fixed-left-grid div.a-row:first-child a\").text\n",
    "    link=product.find_element(By.CSS_SELECTOR,\"div.a-fixed-left-grid div.a-row:first-child a\").get_attribute(\"href\")\n",
    "    id=re.findall(r\"/product/(.*)/ref\",link)[0]\n",
    "    productoObjeto={\n",
    "        \"name\":name,\n",
    "        \"id\":id,\n",
    "        \"price\":price,\n",
    "        \"quantity\":quantity,\n",
    "        \"condition\":condition,\n",
    "        \"sellBy\":sellBy\n",
    "    }\n",
    "    productInfo.append(productoObjeto)\n",
    "\n",
    "for p in productInfo:\n",
    "    print(p)\n",
    "#print(productInfo)"
   ]
  },
  {
   "cell_type": "code",
   "execution_count": null,
   "metadata": {},
   "outputs": [],
   "source": [
    "billsRows=w.find_elements(By.XPATH,\"//h5[contains(text(),'Resumen del pedido')]/parent::div/div[@class='a-row']\")\n",
    "print(len(billsRows))\n",
    "billsTable=[]\n",
    "billObj={}\n",
    "for row in billsRows:\n",
    "    concept=row.find_element(By.XPATH,\"./div[1]\").text\n",
    "    value=row.find_element(By.XPATH,\"./div[2]\").text\n",
    "    billObj[concept]=value\n",
    "\n",
    "print(list(billObj.keys()))\n",
    "\n",
    "\n",
    "\n"
   ]
  },
  {
   "cell_type": "code",
   "execution_count": null,
   "metadata": {},
   "outputs": [],
   "source": [
    "if \"Buy any 4, Save 5%:\" in list(billObj.keys()) or \"Deal of the Day:\" in list(billObj.keys()): \n",
    "    print(\"si existe descuento\")\n",
    "else:\n",
    "    print(\"no existe descuento\")"
   ]
  },
  {
   "cell_type": "code",
   "execution_count": null,
   "metadata": {},
   "outputs": [],
   "source": [
    "print(billObj)"
   ]
  },
  {
   "cell_type": "code",
   "execution_count": null,
   "metadata": {},
   "outputs": [],
   "source": [
    "status=w.find_element(By.CSS_SELECTOR,\"div[class='pt-status-milestone'] div[class='pt-status-milestone-label active current-label']\").text\n",
    "print(status)"
   ]
  },
  {
   "cell_type": "code",
   "execution_count": null,
   "metadata": {},
   "outputs": [],
   "source": [
    "from datetime import datetime,date,timedelta\n",
    "import locale\n",
    "locale.setlocale(locale.LC_ALL, (\"es_ES\", \"UTF-8\"))\n",
    "year=2023\n",
    "f=f\"lunes,10 de julio de {year}\"\n",
    "date_orederd=datetime.strptime(f, '%A,%d de %B de %Y').date()\n",
    "print(date_orederd)\n",
    "print(date_orederd.year)"
   ]
  },
  {
   "cell_type": "code",
   "execution_count": 18,
   "metadata": {},
   "outputs": [
    {
     "name": "stdout",
     "output_type": "stream",
     "text": [
      "2023-07-06\n"
     ]
    }
   ],
   "source": [
    "shipmentDate=w.find_element(By.CSS_SELECTOR,\"span[class='tracking-event-date']\").text.replace(\", \",\",\")\n",
    "shipmentDate=f\"{shipmentDate} de {year}\"\n",
    "shipmentDate=datetime.strptime(shipmentDate, '%A,%d de %B de %Y').date()\n",
    "print(shipmentDate)"
   ]
  },
  {
   "cell_type": "code",
   "execution_count": 5,
   "metadata": {},
   "outputs": [
    {
     "name": "stdout",
     "output_type": "stream",
     "text": [
      "OLsky ¿Dudas sobre el producto? Pregunta al vendedor\n"
     ]
    }
   ],
   "source": [
    "import re\n",
    "seller=w.find_element(By.XPATH,\"//span[contains(text(),'Vendido por:')]\").text\n",
    "sellBy=re.findall(r\"Vendido por: (.*)\",seller)[0]\n",
    "sellBy=sellBy.replace(\"¿Dudas sobre el producto? Pregunta al vendedor\",\"\")\n",
    "print(sellBy)\n",
    "\n"
   ]
  },
  {
   "cell_type": "code",
   "execution_count": null,
   "metadata": {},
   "outputs": [],
   "source": []
  }
 ],
 "metadata": {
  "kernelspec": {
   "display_name": "Python 3",
   "language": "python",
   "name": "python3"
  },
  "language_info": {
   "codemirror_mode": {
    "name": "ipython",
    "version": 3
   },
   "file_extension": ".py",
   "mimetype": "text/x-python",
   "name": "python",
   "nbconvert_exporter": "python",
   "pygments_lexer": "ipython3",
   "version": "3.10.5"
  },
  "orig_nbformat": 4
 },
 "nbformat": 4,
 "nbformat_minor": 2
}
