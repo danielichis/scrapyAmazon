{
 "cells": [
  {
   "cell_type": "code",
   "execution_count": null,
   "metadata": {},
   "outputs": [],
   "source": [
    "import re\n",
    "traking_id=\"ID de rastreo: 1Z2EY4R00367249000\"\n",
    "traking_id=re.findall(r\"ID de rastreo:(.*)\",traking_id)[0]\n",
    "print(traking_id)\n"
   ]
  },
  {
   "cell_type": "code",
   "execution_count": null,
   "metadata": {},
   "outputs": [],
   "source": [
    "from datetime import datetime,date,timedelta\n",
    "import locale\n",
    "locale.setlocale(locale.LC_ALL, (\"es_ES\", \"UTF-8\"))\n",
    "year=2020\n",
    "f=f\"Viernes, 9 de julio de {year}\"\n",
    "date_orederd=datetime.strptime(f, '%A,%d de %B de %Y').date()\n",
    "print(date_orederd)\n",
    "print(date_orederd.year)"
   ]
  },
  {
   "cell_type": "code",
   "execution_count": 1,
   "metadata": {},
   "outputs": [
    {
     "name": "stdout",
     "output_type": "stream",
     "text": [
      "['compras@unaluka.com']\n"
     ]
    }
   ],
   "source": [
    "from selenium.webdriver.common.by import By\n",
    "from selenium.webdriver.support.ui import WebDriverWait\n",
    "from selenium.webdriver.support import expected_conditions as EC\n",
    "import os\n",
    "from utils.setWebdriver import configWebDriver\n",
    "download_path=f\"{os.getcwd()}/descargas_pdf\"\n",
    "with open(\"parametros.txt\", mode=\"r\") as f:\n",
    "    lines=f.readlines()\n",
    "dates=lines[0].strip()\n",
    "w=configWebDriver()\n",
    "wait = WebDriverWait(w, 3)\n",
    "homeUrl=\"https://www.amazon.com/-/es/ap/signin?openid.pape.max_auth_age=0&openid.return_to=https%3A%2F%2Fwww.amazon.com%2F-%2Fes%2Fgp%2Fcss%2Forder-history%3Fref_%3Dnav_youraccount_switchacct&openid.identity=http%3A%2F%2Fspecs.openid.net%2Fauth%2F2.0%2Fidentifier_select&openid.assoc_handle=usflex&openid.mode=checkid_setup&openid.claimed_id=http%3A%2F%2Fspecs.openid.net%2Fauth%2F2.0%2Fidentifier_select&openid.ns=http%3A%2F%2Fspecs.openid.net%2Fauth%2F2.0&switch_account=picker&ignoreAuthState=1&_encoding=UTF8\"\n",
    "w.get(homeUrl)\n",
    "cuentas=[cuenta.text for cuenta in wait.until(EC.visibility_of_all_elements_located((By.XPATH,\"//div[contains(text(), '.com')]\")))]\n",
    "print(cuentas)\n",
    "\n",
    "#w.close()\n"
   ]
  },
  {
   "cell_type": "code",
   "execution_count": 12,
   "metadata": {},
   "outputs": [
    {
     "name": "stdout",
     "output_type": "stream",
     "text": [
      "fecha de envíoviernes, 7 de julio\n"
     ]
    }
   ],
   "source": [
    "import time\n",
    "w.find_element(By.CSS_SELECTOR,\"a[id='a-autoid-5-announce']\").click()\n",
    "#time.sleep(1)\n",
    "w.find_element(By.CSS_SELECTOR,\"a[data-ref='ppx_pt2_dt_b_pt_detail']\").click()\n",
    "#time.sleep(1)\n",
    "#wait for element to be visible\n",
    "wait.until(EC.visibility_of_element_located((By.CSS_SELECTOR,\"span[class='tracking-event-date']\")))\n",
    "shipmentDate=w.find_element(By.CSS_SELECTOR,\"span[class='tracking-event-date']\").text\n",
    "print(f\"fecha de envío{shipmentDate}\")\n"
   ]
  },
  {
   "cell_type": "code",
   "execution_count": 23,
   "metadata": {},
   "outputs": [
    {
     "name": "stdout",
     "output_type": "stream",
     "text": [
      "Rastrear Paquete\n",
      "DE045F2900F56A2E9482B4F6CC6885D9\n"
     ]
    }
   ],
   "source": [
    "windows=w.window_handles\n",
    "#window tittle\n",
    "print(w.title)\n",
    "print(windows[0])"
   ]
  },
  {
   "cell_type": "code",
   "execution_count": 20,
   "metadata": {},
   "outputs": [
    {
     "name": "stdout",
     "output_type": "stream",
     "text": [
      "1\n"
     ]
    }
   ],
   "source": [
    "#switch to frame\n",
    "w.switch_to.frame(w.find_element(By.XPATH,\"//iframe[@id='turbo-checkout-iframe']\"))\n",
    "shipmentDate=w.find_element(By.XPATH,\"span[class='tracking-event-date']\")\n"
   ]
  },
  {
   "cell_type": "code",
   "execution_count": null,
   "metadata": {},
   "outputs": [],
   "source": []
  }
 ],
 "metadata": {
  "kernelspec": {
   "display_name": "Python 3",
   "language": "python",
   "name": "python3"
  },
  "language_info": {
   "codemirror_mode": {
    "name": "ipython",
    "version": 3
   },
   "file_extension": ".py",
   "mimetype": "text/x-python",
   "name": "python",
   "nbconvert_exporter": "python",
   "pygments_lexer": "ipython3",
   "version": "3.10.5"
  },
  "orig_nbformat": 4
 },
 "nbformat": 4,
 "nbformat_minor": 2
}
