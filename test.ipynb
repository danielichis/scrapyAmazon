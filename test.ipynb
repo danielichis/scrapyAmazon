{
 "cells": [
  {
   "cell_type": "code",
   "execution_count": null,
   "metadata": {},
   "outputs": [],
   "source": [
    "import re\n",
    "traking_id=\"ID de rastreo: 1Z2EY4R00367249000\"\n",
    "traking_id=re.findall(r\"ID de rastreo:(.*)\",traking_id)[0]\n",
    "print(traking_id)\n"
   ]
  },
  {
   "cell_type": "code",
   "execution_count": null,
   "metadata": {},
   "outputs": [],
   "source": [
    "from datetime import datetime,date,timedelta\n",
    "import locale\n",
    "locale.setlocale(locale.LC_ALL, (\"es_ES\", \"UTF-8\"))\n",
    "year=2020\n",
    "f=f\"Viernes, 9 de julio de {year}\"\n",
    "date_orederd=datetime.strptime(f, '%A,%d de %B de %Y').date()\n",
    "print(date_orederd)\n",
    "print(date_orederd.year)"
   ]
  },
  {
   "cell_type": "code",
   "execution_count": 1,
   "metadata": {},
   "outputs": [
    {
     "name": "stdout",
     "output_type": "stream",
     "text": [
      "['compras@unaluka.com']\n"
     ]
    }
   ],
   "source": [
    "from selenium.webdriver.common.by import By\n",
    "from selenium.webdriver.support.ui import WebDriverWait\n",
    "from selenium.webdriver.support import expected_conditions as EC\n",
    "import os\n",
    "from utils.setWebdriver import configWebDriver\n",
    "download_path=f\"{os.getcwd()}/descargas_pdf\"\n",
    "with open(\"parametros.txt\", mode=\"r\") as f:\n",
    "    lines=f.readlines()\n",
    "dates=lines[0].strip()\n",
    "w=configWebDriver()\n",
    "wait = WebDriverWait(w, 3)\n",
    "homeUrl=\"https://www.amazon.com/-/es/ap/signin?openid.pape.max_auth_age=0&openid.return_to=https%3A%2F%2Fwww.amazon.com%2F-%2Fes%2Fgp%2Fcss%2Forder-history%3Fref_%3Dnav_youraccount_switchacct&openid.identity=http%3A%2F%2Fspecs.openid.net%2Fauth%2F2.0%2Fidentifier_select&openid.assoc_handle=usflex&openid.mode=checkid_setup&openid.claimed_id=http%3A%2F%2Fspecs.openid.net%2Fauth%2F2.0%2Fidentifier_select&openid.ns=http%3A%2F%2Fspecs.openid.net%2Fauth%2F2.0&switch_account=picker&ignoreAuthState=1&_encoding=UTF8\"\n",
    "w.get(homeUrl)\n",
    "cuentas=[cuenta.text for cuenta in wait.until(EC.visibility_of_all_elements_located((By.XPATH,\"//div[contains(text(), '.com')]\")))]\n",
    "print(cuentas)\n",
    "\n",
    "#w.close()\n"
   ]
  },
  {
   "cell_type": "code",
   "execution_count": 12,
   "metadata": {},
   "outputs": [
    {
     "name": "stdout",
     "output_type": "stream",
     "text": [
      "fecha de envíoviernes, 7 de julio\n"
     ]
    }
   ],
   "source": [
    "import time\n",
    "w.find_element(By.CSS_SELECTOR,\"a[id='a-autoid-5-announce']\").click()\n",
    "#time.sleep(1)\n",
    "w.find_element(By.CSS_SELECTOR,\"a[data-ref='ppx_pt2_dt_b_pt_detail']\").click()\n",
    "#time.sleep(1)\n",
    "#wait for element to be visible\n",
    "wait.until(EC.visibility_of_element_located((By.CSS_SELECTOR,\"span[class='tracking-event-date']\")))\n",
    "shipmentDate=w.find_element(By.CSS_SELECTOR,\"span[class='tracking-event-date']\").text\n",
    "print(f\"fecha de envío{shipmentDate}\")\n"
   ]
  },
  {
   "cell_type": "code",
   "execution_count": 23,
   "metadata": {},
   "outputs": [
    {
     "name": "stdout",
     "output_type": "stream",
     "text": [
      "Rastrear Paquete\n",
      "DE045F2900F56A2E9482B4F6CC6885D9\n"
     ]
    }
   ],
   "source": [
    "windows=w.window_handles\n",
    "#window tittle\n",
    "print(w.title)\n",
    "print(windows[0])"
   ]
  },
  {
   "cell_type": "code",
   "execution_count": 20,
   "metadata": {},
   "outputs": [
    {
     "name": "stdout",
     "output_type": "stream",
     "text": [
      "1\n"
     ]
    }
   ],
   "source": [
    "#switch to frame\n",
    "w.switch_to.frame(w.find_element(By.XPATH,\"//iframe[@id='turbo-checkout-iframe']\"))\n",
    "shipmentDate=w.find_element(By.XPATH,\"span[class='tracking-event-date']\")\n"
   ]
  },
  {
   "cell_type": "code",
   "execution_count": 3,
   "metadata": {},
   "outputs": [
    {
     "name": "stdout",
     "output_type": "stream",
     "text": [
      "635 12TH ST APT 11\n",
      "MIAMI BEACH\n",
      "FL\n",
      "33139-4528\n"
     ]
    }
   ],
   "source": [
    "dirs=w.find_elements(By.CSS_SELECTOR,\"ul[class='displayAddressUL'] li\")\n",
    "shipping_Address_Street1=dirs[1].text\n",
    "shipping_Address_City=dirs[2].text.split(\",\")[0]\n",
    "shipping_Address_State=dirs[2].text.split(\",\")[1].strip().split(\" \")[0]\n",
    "shipping_Address_Zip=dirs[2].text.split(\",\")[1].strip().split(\" \")[1]\n",
    "print(shipping_Address_Street1)\n",
    "print(shipping_Address_City)\n",
    "print(shipping_Address_State)\n",
    "print(shipping_Address_Zip)"
   ]
  },
  {
   "cell_type": "code",
   "execution_count": 5,
   "metadata": {},
   "outputs": [
    {
     "name": "stdout",
     "output_type": "stream",
     "text": [
      "https://www.amazon.com/-/es/gp/product/B0B3C7MJX3/ref=ppx_od_dt_b_asin_title_s00?ie=UTF8&psc=1\n",
      "B0B3C7MJX3\n"
     ]
    }
   ],
   "source": [
    "import re\n",
    "link=w.find_elements(By.CSS_SELECTOR,\"div.a-fixed-left-grid div.a-row:first-child a\")[0].get_attribute(\"href\")\n",
    "print(link)\n",
    "product_id=re.findall(r\"/product/(.*)/ref\",link)[0]\n",
    "print(product_id)"
   ]
  },
  {
   "cell_type": "code",
   "execution_count": 6,
   "metadata": {},
   "outputs": [
    {
     "name": "stdout",
     "output_type": "stream",
     "text": [
      "1\n",
      "2\n"
     ]
    }
   ],
   "source": [
    "def par():\n",
    "    return 1,2\n",
    "a,b=par()\n",
    "print(a)\n",
    "print(b)"
   ]
  },
  {
   "cell_type": "code",
   "execution_count": 7,
   "metadata": {},
   "outputs": [
    {
     "name": "stdout",
     "output_type": "stream",
     "text": [
      "0\n",
      "1\n",
      "2\n"
     ]
    }
   ],
   "source": [
    "animals=[\"perro\",\"gato\",\"raton\"]\n",
    "for animal,i in enumerate(animals):\n",
    "    print(animal)"
   ]
  },
  {
   "cell_type": "code",
   "execution_count": 11,
   "metadata": {},
   "outputs": [
    {
     "ename": "IndexError",
     "evalue": "list index out of range",
     "output_type": "error",
     "traceback": [
      "\u001b[1;31m---------------------------------------------------------------------------\u001b[0m",
      "\u001b[1;31mIndexError\u001b[0m                                Traceback (most recent call last)",
      "\u001b[1;32mc:\\Users\\Daniel\\Documents\\amazon\\test.ipynb Cell 11\u001b[0m in \u001b[0;36m3\n\u001b[0;32m      <a href='vscode-notebook-cell:/c%3A/Users/Daniel/Documents/amazon/test.ipynb#X13sZmlsZQ%3D%3D?line=0'>1</a>\u001b[0m status\u001b[39m=\u001b[39mw\u001b[39m.\u001b[39mfind_element(By\u001b[39m.\u001b[39mXPATH,\u001b[39m\"\u001b[39m\u001b[39m//span[@class=\u001b[39m\u001b[39m'\u001b[39m\u001b[39ma-color-secondary a-text-bold\u001b[39m\u001b[39m'\u001b[39m\u001b[39m]/following-sibling::span\u001b[39m\u001b[39m\"\u001b[39m)\u001b[39m.\u001b[39mtext\n\u001b[0;32m      <a href='vscode-notebook-cell:/c%3A/Users/Daniel/Documents/amazon/test.ipynb#X13sZmlsZQ%3D%3D?line=1'>2</a>\u001b[0m sellBy\u001b[39m=\u001b[39mw\u001b[39m.\u001b[39mfind_element(By\u001b[39m.\u001b[39mCSS_SELECTOR,\u001b[39m\"\u001b[39m\u001b[39mdiv[class=\u001b[39m\u001b[39m'\u001b[39m\u001b[39ma-row\u001b[39m\u001b[39m'\u001b[39m\u001b[39m] span[class=\u001b[39m\u001b[39m'\u001b[39m\u001b[39ma-size-small a-color-secondary\u001b[39m\u001b[39m'\u001b[39m\u001b[39m]\u001b[39m\u001b[39m\"\u001b[39m)\u001b[39m.\u001b[39mtext\n\u001b[1;32m----> <a href='vscode-notebook-cell:/c%3A/Users/Daniel/Documents/amazon/test.ipynb#X13sZmlsZQ%3D%3D?line=2'>3</a>\u001b[0m sellBy\u001b[39m=\u001b[39mre\u001b[39m.\u001b[39;49mfindall(\u001b[39mr\u001b[39;49m\u001b[39m\"\u001b[39;49m\u001b[39mVendido por (.*)\u001b[39;49m\u001b[39m\"\u001b[39;49m,sellBy)[\u001b[39m0\u001b[39;49m]\n\u001b[0;32m      <a href='vscode-notebook-cell:/c%3A/Users/Daniel/Documents/amazon/test.ipynb#X13sZmlsZQ%3D%3D?line=3'>4</a>\u001b[0m \u001b[39mprint\u001b[39m(status)\n\u001b[0;32m      <a href='vscode-notebook-cell:/c%3A/Users/Daniel/Documents/amazon/test.ipynb#X13sZmlsZQ%3D%3D?line=4'>5</a>\u001b[0m \u001b[39mprint\u001b[39m(sellBy)\n",
      "\u001b[1;31mIndexError\u001b[0m: list index out of range"
     ]
    }
   ],
   "source": [
    "status=w.find_element(By.XPATH,\"//span[@class='a-color-secondary a-text-bold']/following-sibling::span\").text\n",
    "sellBy=w.find_element(By.CSS_SELECTOR,\"div[class='a-row'] span[class='a-size-small a-color-secondary']\").text\n",
    "sellBy=re.findall(r\"Vendido por: (.*)\",sellBy)[0]\n",
    "print(status)\n",
    "print(sellBy)"
   ]
  },
  {
   "cell_type": "code",
   "execution_count": null,
   "metadata": {},
   "outputs": [],
   "source": []
  }
 ],
 "metadata": {
  "kernelspec": {
   "display_name": "Python 3",
   "language": "python",
   "name": "python3"
  },
  "language_info": {
   "codemirror_mode": {
    "name": "ipython",
    "version": 3
   },
   "file_extension": ".py",
   "mimetype": "text/x-python",
   "name": "python",
   "nbconvert_exporter": "python",
   "pygments_lexer": "ipython3",
   "version": "3.10.5"
  },
  "orig_nbformat": 4
 },
 "nbformat": 4,
 "nbformat_minor": 2
}
